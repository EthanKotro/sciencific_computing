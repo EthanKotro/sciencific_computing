{
 "cells": [
  {
   "cell_type": "markdown",
   "metadata": {},
   "source": [
    "Panda is a powerful data manipulation library built on numpy \n",
    "    data handled eg CSV, excel, jsn\n",
    "Why Panda? It has very efficient data structures\n",
    "    data frame- has both row and column\n",
    "    it is integratable with scientific library\n",
    "It can be used in:\n",
    "    Climate data analysis\n",
    "    Processing of medical data sets\n",
    "    Financial Modelling\n",
    "\n",
    "\n"
   ]
  }
 ],
 "metadata": {
  "language_info": {
   "name": "python"
  }
 },
 "nbformat": 4,
 "nbformat_minor": 2
}
