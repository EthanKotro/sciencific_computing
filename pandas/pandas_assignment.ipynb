{
 "cells": [
  {
   "cell_type": "markdown",
   "metadata": {},
   "source": [
    "### Handling Missing Values and Outliers\n",
    "Missing Values"
   ]
  },
  {
   "cell_type": "code",
   "execution_count": null,
   "metadata": {},
   "outputs": [],
   "source": [
    "import pandas as pd\n",
    "\n",
    "data = pd.read_csv('assignment_dataset.csv')\n",
    "\n",
    "# print(\"Loaded Dataset:\")\n",
    "# print(data.head())\n",
    "\n",
    "data['Salary']=data['Salary'].fillna(data['Salary'].mean())\n",
    "data['Age']=data['Age'].fillna(data['Age']).median()\n",
    "\n",
    "print(\"\\nDataset after handling missing values:\")\n",
    "print(data.head())"
   ]
  },
  {
   "cell_type": "markdown",
   "metadata": {},
   "source": [
    "Outliers\n"
   ]
  },
  {
   "cell_type": "code",
   "execution_count": null,
   "metadata": {},
   "outputs": [],
   "source": [
    "from scipy.stats import zscore\n",
    "import numpy as np\n",
    "\n",
    "z_scores = np.abs(zscore(data['Salary']))\n",
    "outliers = data[z_scores > 3] \n",
    "print(\"Outliers in Salary:\")\n",
    "print(outliers)\n",
    "\n",
    "data['Salary'] = np.where(data['Salary'] > 150000, 150000, data['Salary'])\n",
    "\n",
    "print(\"\\nDataset after handling outliers:\")\n",
    "print(data.head())"
   ]
  },
  {
   "cell_type": "markdown",
   "metadata": {},
   "source": [
    "### Generating Visualization like heatmap(correlation) scatterplots, histogram:"
   ]
  },
  {
   "cell_type": "markdown",
   "metadata": {},
   "source": [
    "heatmap"
   ]
  },
  {
   "cell_type": "code",
   "execution_count": null,
   "metadata": {},
   "outputs": [],
   "source": [
    "import matplotlib.pyplot as plt\n",
    "import seaborn as sns\n",
    "\n",
    "# Select only numerical columns for correlation\n",
    "numerical_data = data.select_dtypes(include=['int64', 'float64'])\n",
    "\n",
    "# Heatmap (for correlation)\n",
    "plt.figure(figsize=(8, 6))\n",
    "sns.heatmap(numerical_data.corr(), annot=True, cmap='coolwarm', fmt='.2f')\n",
    "plt.title('Correlation Heatmap')\n",
    "plt.show()"
   ]
  },
  {
   "cell_type": "markdown",
   "metadata": {},
   "source": [
    "scatterplot"
   ]
  },
  {
   "cell_type": "code",
   "execution_count": null,
   "metadata": {},
   "outputs": [],
   "source": [
    "plt.figure(figsize=(8, 6))\n",
    "sns.scatterplot(x='Age', y='Salary', hue='Gender', data=data)\n",
    "plt.title('Scatterplot of Age vs Salary')\n",
    "plt.show()"
   ]
  },
  {
   "cell_type": "markdown",
   "metadata": {},
   "source": [
    "histogram"
   ]
  },
  {
   "cell_type": "code",
   "execution_count": null,
   "metadata": {},
   "outputs": [],
   "source": [
    "plt.figure(figsize=(8, 6))\n",
    "sns.histplot(data['Salary'], kde=True)\n",
    "plt.title('Histogram of Salary')\n",
    "plt.show()"
   ]
  },
  {
   "cell_type": "markdown",
   "metadata": {},
   "source": [
    "### Computing Key statistics like Mean, Mode, Max Value\n",
    "\n",
    "Mean"
   ]
  },
  {
   "cell_type": "code",
   "execution_count": 18,
   "metadata": {},
   "outputs": [
    {
     "name": "stdout",
     "output_type": "stream",
     "text": [
      "Mean Salary: 55568.68114995787\n"
     ]
    }
   ],
   "source": [
    "mean_salary = data['Salary'].mean()\n",
    "print(\"Mean Salary:\", mean_salary)"
   ]
  },
  {
   "cell_type": "markdown",
   "metadata": {},
   "source": [
    "median"
   ]
  },
  {
   "cell_type": "code",
   "execution_count": 19,
   "metadata": {},
   "outputs": [
    {
     "name": "stdout",
     "output_type": "stream",
     "text": [
      "Median Age: 39.0\n"
     ]
    }
   ],
   "source": [
    "median_age = data['Age'].median()\n",
    "print(\"Median Age:\", median_age)"
   ]
  },
  {
   "cell_type": "markdown",
   "metadata": {},
   "source": [
    "mode"
   ]
  },
  {
   "cell_type": "code",
   "execution_count": 22,
   "metadata": {},
   "outputs": [
    {
     "name": "stdout",
     "output_type": "stream",
     "text": [
      "Mode of Education Level: High School\n"
     ]
    }
   ],
   "source": [
    "mode_education = data['Education'].mode()[0]\n",
    "print(\"Mode of Education Level:\", mode_education)"
   ]
  },
  {
   "cell_type": "markdown",
   "metadata": {},
   "source": [
    "max-value"
   ]
  },
  {
   "cell_type": "code",
   "execution_count": 23,
   "metadata": {},
   "outputs": [
    {
     "name": "stdout",
     "output_type": "stream",
     "text": [
      "Max Experience: 19\n"
     ]
    }
   ],
   "source": [
    "max_experience = data['Experience'].max()\n",
    "print(\"Max Experience:\", max_experience)"
   ]
  },
  {
   "cell_type": "markdown",
   "metadata": {},
   "source": [
    "min-value"
   ]
  },
  {
   "cell_type": "code",
   "execution_count": 25,
   "metadata": {},
   "outputs": [
    {
     "name": "stdout",
     "output_type": "stream",
     "text": [
      "Min Experience(years): 1\n"
     ]
    }
   ],
   "source": [
    "min_experience = data['Experience'].min()\n",
    "print(\"Min Experience(years):\", min_experience)"
   ]
  }
 ],
 "metadata": {
  "kernelspec": {
   "display_name": ".venv",
   "language": "python",
   "name": "python3"
  },
  "language_info": {
   "codemirror_mode": {
    "name": "ipython",
    "version": 3
   },
   "file_extension": ".py",
   "mimetype": "text/x-python",
   "name": "python",
   "nbconvert_exporter": "python",
   "pygments_lexer": "ipython3",
   "version": "3.13.0"
  }
 },
 "nbformat": 4,
 "nbformat_minor": 2
}
