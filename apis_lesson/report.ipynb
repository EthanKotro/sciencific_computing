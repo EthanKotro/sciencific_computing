{
 "cells": [
  {
   "cell_type": "markdown",
   "id": "00642b8a",
   "metadata": {},
   "source": [
    "### ICS 2218 Intro To Quantum Computing \n",
    "##  Group Members \n",
    "- Alvin Gikunju SCT211-0011/2023\n",
    "- Hunja Jude Murage SCT211-0309/2023\n",
    "- Ethan Kiptoo Kisang sct211-0012/2023\n",
    "- Philip Muendo sct211-0013/2023\n"
   ]
  },
  {
   "cell_type": "markdown",
   "id": "f66d2571",
   "metadata": {},
   "source": [
    "1. Introduction\n",
    "\n",
    "This report details the implementation and simulation of a quantum circuit using the Qiskit framework in Python. The circuit consists of three qubits and a sequence of fundamental quantum gates. The report covers the circuit design, visualization, simulation using a local simulator, and visualization of the measurement outcomes."
   ]
  },
  {
   "cell_type": "code",
   "execution_count": 1,
   "id": "41d557f8",
   "metadata": {},
   "outputs": [],
   "source": [
    "import qiskit as qk\n",
    "from qiskit import QuantumCircuit, transpile\n",
    "from qiskit_aer import AerSimulator"
   ]
  },
  {
   "cell_type": "markdown",
   "id": "5a56f678",
   "metadata": {},
   "source": [
    "2. Quantum Circuit Design\n",
    "\n",
    "A quantum circuit with three qubits and one classical bit was constructed. The classical bit is intended to store the measurement outcome of one of the qubits. The following quantum gates were applied in sequence to manipulate the states of the qubits:\n"
   ]
  },
  {
   "cell_type": "markdown",
   "id": "89e7c7b7",
   "metadata": {},
   "source": [
    "Hadamard Gate (H):\n",
    "    Applied to the first qubit (index 0). This gate puts the qubit into a superposition of the ∣0⟩ and ∣1⟩ states.  \n",
    "$H = \\begin{bmatrix}1 & 1 \\\\ 1 & -1\\end{bmatrix}$ "
   ]
  },
  {
   "cell_type": "code",
   "execution_count": 10,
   "id": "dd0c613a",
   "metadata": {},
   "outputs": [
    {
     "data": {
      "image/png": "[encoded data removed]",
      "text/plain": [
       "<Figure size 185.453x117.056 with 1 Axes>"
      ]
     },
     "execution_count": 10,
     "metadata": {},
     "output_type": "execute_result"
    }
   ],
   "source": [
    "qc_h= qk.QuantumCircuit(1)\n",
    "qc_h.h(0)\n",
    "qc_h.draw(\"mpl\")"
   ]
  },
  {
   "cell_type": "markdown",
   "id": "3971f2c1",
   "metadata": {},
   "source": [
    "Pauli-X Gate (X): Applied to the second qubit (index 1). This gate acts as a quantum NOT, flipping the state of the qubit.\n",
    "\n",
    "$X = \\begin{bmatrix}0 & 1 \\\\ 1 & 0\\end{bmatrix}$"
   ]
  },
  {
   "cell_type": "code",
   "execution_count": 9,
   "id": "042185c7",
   "metadata": {},
   "outputs": [
    {
     "data": {
      "image/png": "[encoded data removed]",
      "text/plain": [
       "<Figure size 185.453x117.056 with 1 Axes>"
      ]
     },
     "execution_count": 9,
     "metadata": {},
     "output_type": "execute_result"
    }
   ],
   "source": [
    "\n",
    "\n",
    "# Pauli-X (NOT gate) example\n",
    "qc_x = QuantumCircuit(1)  # 1 qubit\n",
    "qc_x.x(0)  # Apply Pauli-X to flip the qubit\n",
    "\n",
    "qc_x.draw('mpl')"
   ]
  },
  {
   "cell_type": "markdown",
   "id": "e1c816a8",
   "metadata": {},
   "source": [
    "\n",
    "Controlled-NOT Gate (CNOT or CX): Applied with the first qubit (index 0) as the control and the third qubit (index 2) as the target.  \n",
    "This gate entangles the control and target qubits, flipping the state of the target qubit only if the control qubit is in the ∣1⟩ state.\n"
   ]
  },
  {
   "cell_type": "code",
   "execution_count": 13,
   "id": "8316f1e1",
   "metadata": {},
   "outputs": [
    {
     "data": {
      "image/png": "[encoded data removed]",
      "text/plain": [
       "<Figure size 203.683x200.667 with 1 Axes>"
      ]
     },
     "execution_count": 13,
     "metadata": {},
     "output_type": "execute_result"
    }
   ],
   "source": [
    "qc_cx = QuantumCircuit(2)  \n",
    "qc_cx.cx(0, 1) # CNOT gate (entanglement)\n",
    "\n",
    "qc_cx.draw('mpl')"
   ]
  },
  {
   "cell_type": "markdown",
   "id": "6291c8db",
   "metadata": {},
   "source": [
    "**Phase Gate (S)** : Applied to the third qubit (index 2).  \n",
    "This gate introduces a phase shift of π/2 to the ∣1⟩ component of the qubit's state.\n",
    "$S = \\begin{bmatrix}1 & 0 \\\\ 0 & i\\end{bmatrix}$"
   ]
  },
  {
   "cell_type": "code",
   "execution_count": 21,
   "id": "656fe8ca",
   "metadata": {},
   "outputs": [
    {
     "data": {
      "image/png": "[encoded data removed]",
      "text/plain": [
       "<Figure size 185.453x117.056 with 1 Axes>"
      ]
     },
     "execution_count": 21,
     "metadata": {},
     "output_type": "execute_result"
    }
   ],
   "source": [
    "q_s = qk.QuantumCircuit(1) #2 qubits\n",
    "q_s.s(0)# Apply CNOT gate with control qubit 0 and target qubit 1\n",
    "q_s.draw(\"mpl\")"
   ]
  },
  {
   "cell_type": "markdown",
   "id": "dc1dc718",
   "metadata": {},
   "source": [
    "**T Gate**: Applied to the first qubit (index 0). This gate introduces a phase shift of π/4 to the ∣1⟩ component of the qubit's state.\n",
    "\n",
    "$T = \\begin{bmatrix}1 & 0 \\\\ 0 & e(iπ/4)\\end{bmatrix}$\n",
    "​ "
   ]
  },
  {
   "cell_type": "code",
   "execution_count": null,
   "id": "bb661cb1",
   "metadata": {},
   "outputs": [
    {
     "data": {
      "image/png": "[encoded data removed]",
      "text/plain": [
       "<Figure size 185.453x117.056 with 1 Axes>"
      ]
     },
     "execution_count": 22,
     "metadata": {},
     "output_type": "execute_result"
    }
   ],
   "source": [
    "q_t = qk.QuantumCircuit(1) \n",
    "q_t.t(0)# Apply T gate      \n",
    "q_t.draw(\"mpl\")"
   ]
  },
  {
   "cell_type": "markdown",
   "id": "65b3b08a",
   "metadata": {},
   "source": [
    "**Controlled-Z Gate (CZ)**: Applied with the second qubit (index 1) as the control and the third qubit (index 2) as the target. This gate introduces a phase of π to the ∣11⟩ state of the control and target qubits.\n",
    "Finally, a measurement operation was performed on the first qubit (index 0), and the result was stored in the first classical bit (index 0)."
   ]
  },
  {
   "cell_type": "code",
   "execution_count": 25,
   "id": "fb137a1a",
   "metadata": {},
   "outputs": [
    {
     "data": {
      "image/png": "[encoded data removed]",
      "text/plain": [
       "<Figure size 287.294x200.667 with 1 Axes>"
      ]
     },
     "execution_count": 25,
     "metadata": {},
     "output_type": "execute_result"
    }
   ],
   "source": [
    "qc = QuantumCircuit(2)\n",
    "qc.x(0)  # control qubit\n",
    "\n",
    "# Apply Controlled-Z gate\n",
    "qc.cz(0, 1)\n",
    "\n",
    "# Draw the circuit\n",
    "qc.draw('mpl')"
   ]
  },
  {
   "cell_type": "markdown",
   "id": "7e468a89",
   "metadata": {},
   "source": [
    "## Bell State\n",
    "This is a special type of entangled state of two qubits. In reality there are many qubits which are entangled in a more complex way, but Bell state is the simplest form of entanglement.\n"
   ]
  },
  {
   "cell_type": "code",
   "execution_count": 28,
   "id": "866997c6",
   "metadata": {},
   "outputs": [
    {
     "data": {
      "image/png": "[encoded data removed]",
      "text/plain": [
       "<Figure size 287.294x200.667 with 1 Axes>"
      ]
     },
     "execution_count": 28,
     "metadata": {},
     "output_type": "execute_result"
    }
   ],
   "source": [
    "# creating a circuit with 2 qubits\n",
    "qc = QuantumCircuit(2)\n",
    "\n",
    "# adding a Hadamard gate to qubit 0\n",
    "qc.h(0)\n",
    "\n",
    "qc.cx(0,1)\n",
    "\n",
    "qc.draw(output='mpl')"
   ]
  }
 ],
 "metadata": {
  "kernelspec": {
   "display_name": "qcomp",
   "language": "python",
   "name": "python3"
  },
  "language_info": {
   "codemirror_mode": {
    "name": "ipython",
    "version": 3
   },
   "file_extension": ".py",
   "mimetype": "text/x-python",
   "name": "python",
   "nbconvert_exporter": "python",
   "pygments_lexer": "ipython3",
   "version": "3.13.0"
  }
 },
 "nbformat": 4,
 "nbformat_minor": 5
}
