{
 "cells": [
  {
   "cell_type": "markdown",
   "metadata": {},
   "source": [
    "### Premier League data Plotted using APis\n",
    " Using an api from football-data.org,\n",
    " with auth token: de27c6f949e040418ee4fcb5206ca657\n",
    " I have plotted data from that api, getting tables and sorting them"
   ]
  },
  {
   "cell_type": "code",
   "execution_count": null,
   "metadata": {},
   "outputs": [],
   "source": [
    "import requests\n",
    "url = \"https://api.football-data.org/v4/competitions/PL/matches\"\n",
    "headers = {\"X-Auth-Token\": \"de27c6f949e040418ee4fcb5206ca657\"}\n",
    "response = requests.get(url, headers=headers)\n",
    "\n",
    "if response.status_code == 200:\n",
    "    data = response.json()\n",
    "else:\n",
    "    print(f\"Error: {response.status_code}, {response.text}\")"
   ]
  },
  {
   "cell_type": "code",
   "execution_count": null,
   "metadata": {},
   "outputs": [],
   "source": [
    "import pandas as pd\n",
    "df = pd.DataFrame(data['matches'])\n",
    "\n",
    "df\n"
   ]
  },
  {
   "cell_type": "markdown",
   "metadata": {},
   "source": [
    " Selecting the name of a team alone from the \"homeTeam\" data"
   ]
  },
  {
   "cell_type": "code",
   "execution_count": null,
   "metadata": {},
   "outputs": [],
   "source": [
    "df['home_team_name'] = df['homeTeam'].apply(lambda x: x['name'] if isinstance(x, dict) else None)\n",
    "df['away_team_name'] = df['awayTeam'].apply(lambda x: x['name'] if isinstance(x, dict) else None)\n",
    "\n",
    "df['home_goals'] = df['score'].apply(lambda x: x['fullTime']['home'] if isinstance(x, dict) and 'fullTime' in x else None)\n",
    "df['away_goals'] = df['score'].apply(lambda x: x['fullTime']['away'] if isinstance(x, dict) and 'fullTime' in x else None)\n",
    "\n",
    "\n",
    "df['utcDate'] = pd.to_datetime(df['utcDate'])\n",
    "\n",
    "# Format as 'Day, Month Date, Year - HH:MM AM/PM'\n",
    "df['match_date'] = df['utcDate'].dt.strftime('%A, %B %d, %Y - %I:%M %p')\n"
   ]
  },
  {
   "cell_type": "markdown",
   "metadata": {},
   "source": [
    "Plotting the matches in order of most recent"
   ]
  },
  {
   "cell_type": "code",
   "execution_count": null,
   "metadata": {},
   "outputs": [],
   "source": [
    "\n",
    "df_pl = df[df['status'] == 'FINISHED'].copy()\n",
    "\n",
    "df_pl= df_pl[['home_team_name','status', 'away_team_name', 'home_goals', 'away_goals','match_date']]\n",
    "\n",
    "df_pl['match_date'] = pd.to_datetime(df_pl['match_date'], format='%A, %B %d, %Y - %I:%M %p')\n",
    "df_pl = df_pl.sort_values(by='match_date', ascending=False)\n",
    "\n",
    "df_pl.head(10)\n"
   ]
  },
  {
   "cell_type": "markdown",
   "metadata": {},
   "source": [
    "### To Get Standings \n",
    "to get the top 10 on the Premier League table"
   ]
  },
  {
   "cell_type": "code",
   "execution_count": null,
   "metadata": {},
   "outputs": [],
   "source": [
    "import requests\n",
    "url = \"https://api.football-data.org/v4/competitions/PL/standings\"\n",
    "headers = {\"X-Auth-Token\": \"de27c6f949e040418ee4fcb5206ca657\"}\n",
    "response = requests.get(url, headers=headers)\n",
    "\n",
    "if response.status_code == 200:\n",
    "    data = response.json()\n",
    "else:\n",
    "    print(f\"Error: {response.status_code}, {response.text}\")\n",
    "# Extract standings data\n",
    "standings = data['standings'][0]['table']  # The first element contains league table data\n",
    "\n",
    "# Convert to DataFrame\n",
    "df = pd.DataFrame(standings)\n"
   ]
  },
  {
   "cell_type": "code",
   "execution_count": null,
   "metadata": {},
   "outputs": [],
   "source": [
    "df['team_name'] = df['team'].apply(lambda x: x['name'] if isinstance(x, dict) else None)\n",
    "\n",
    "\n",
    "df_standings= df[['position','team_name','playedGames','won','draw','lost','points','goalsFor','goalsAgainst','goalDifference']]\n",
    "\n",
    "df_standings.head(10)"
   ]
  }
 ],
 "metadata": {
  "kernelspec": {
   "display_name": ".venv",
   "language": "python",
   "name": "python3"
  },
  "language_info": {
   "codemirror_mode": {
    "name": "ipython",
    "version": 3
   },
   "file_extension": ".py",
   "mimetype": "text/x-python",
   "name": "python",
   "nbconvert_exporter": "python",
   "pygments_lexer": "ipython3",
   "version": "3.13.0"
  }
 },
 "nbformat": 4,
 "nbformat_minor": 2
}
