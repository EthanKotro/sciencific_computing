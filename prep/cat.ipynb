{
 "cells": [
  {
   "cell_type": "markdown",
   "id": "37c60818",
   "metadata": {},
   "source": [
    "### Question 1: Practical Gradient Descent Implementation (20 marks) "
   ]
  },
  {
   "cell_type": "markdown",
   "id": "c49ab901",
   "metadata": {},
   "source": [
    "a)"
   ]
  },
  {
   "cell_type": "code",
   "execution_count": 77,
   "id": "4eba8d94",
   "metadata": {},
   "outputs": [],
   "source": [
    "def grad_descent(x0,alpha, n):\n",
    "    def f(x):\n",
    "        return x**2 - 6*x + 9\n",
    "    \n",
    "    def df(x):\n",
    "        return 2*x - 6\n",
    "    x=x0\n",
    "    x_vals=[x]\n",
    "    y_vals=[f(x)]\n",
    "    for _ in range(n):\n",
    "        gradient = df(x)\n",
    "        x=x-alpha*gradient\n",
    "        x_vals.append(x)\n",
    "        y_vals.append(f(x))\n",
    "    return  x_vals, y_vals"
   ]
  },
  {
   "cell_type": "markdown",
   "id": "a902934e",
   "metadata": {},
   "source": [
    "b)"
   ]
  },
  {
   "cell_type": "code",
   "execution_count": 78,
   "id": "9899d54a",
   "metadata": {},
   "outputs": [
    {
     "data": {
      "text/html": [
       "<div>\n",
       "<style scoped>\n",
       "    .dataframe tbody tr th:only-of-type {\n",
       "        vertical-align: middle;\n",
       "    }\n",
       "\n",
       "    .dataframe tbody tr th {\n",
       "        vertical-align: top;\n",
       "    }\n",
       "\n",
       "    .dataframe thead th {\n",
       "        text-align: right;\n",
       "    }\n",
       "</style>\n",
       "<table border=\"1\" class=\"dataframe\">\n",
       "  <thead>\n",
       "    <tr style=\"text-align: right;\">\n",
       "      <th></th>\n",
       "      <th>Iteration</th>\n",
       "      <th>x</th>\n",
       "      <th>f(x)</th>\n",
       "    </tr>\n",
       "  </thead>\n",
       "  <tbody>\n",
       "    <tr>\n",
       "      <th>0</th>\n",
       "      <td>0</td>\n",
       "      <td>2</td>\n",
       "      <td>1</td>\n",
       "    </tr>\n",
       "    <tr>\n",
       "      <th>1</th>\n",
       "      <td>1</td>\n",
       "      <td>4</td>\n",
       "      <td>1</td>\n",
       "    </tr>\n",
       "    <tr>\n",
       "      <th>2</th>\n",
       "      <td>2</td>\n",
       "      <td>2</td>\n",
       "      <td>1</td>\n",
       "    </tr>\n",
       "    <tr>\n",
       "      <th>3</th>\n",
       "      <td>3</td>\n",
       "      <td>4</td>\n",
       "      <td>1</td>\n",
       "    </tr>\n",
       "    <tr>\n",
       "      <th>4</th>\n",
       "      <td>4</td>\n",
       "      <td>2</td>\n",
       "      <td>1</td>\n",
       "    </tr>\n",
       "    <tr>\n",
       "      <th>5</th>\n",
       "      <td>5</td>\n",
       "      <td>4</td>\n",
       "      <td>1</td>\n",
       "    </tr>\n",
       "    <tr>\n",
       "      <th>6</th>\n",
       "      <td>6</td>\n",
       "      <td>2</td>\n",
       "      <td>1</td>\n",
       "    </tr>\n",
       "    <tr>\n",
       "      <th>7</th>\n",
       "      <td>7</td>\n",
       "      <td>4</td>\n",
       "      <td>1</td>\n",
       "    </tr>\n",
       "    <tr>\n",
       "      <th>8</th>\n",
       "      <td>8</td>\n",
       "      <td>2</td>\n",
       "      <td>1</td>\n",
       "    </tr>\n",
       "    <tr>\n",
       "      <th>9</th>\n",
       "      <td>9</td>\n",
       "      <td>4</td>\n",
       "      <td>1</td>\n",
       "    </tr>\n",
       "    <tr>\n",
       "      <th>10</th>\n",
       "      <td>10</td>\n",
       "      <td>2</td>\n",
       "      <td>1</td>\n",
       "    </tr>\n",
       "  </tbody>\n",
       "</table>\n",
       "</div>"
      ],
      "text/plain": [
       "    Iteration  x  f(x)\n",
       "0           0  2     1\n",
       "1           1  4     1\n",
       "2           2  2     1\n",
       "3           3  4     1\n",
       "4           4  2     1\n",
       "5           5  4     1\n",
       "6           6  2     1\n",
       "7           7  4     1\n",
       "8           8  2     1\n",
       "9           9  4     1\n",
       "10         10  2     1"
      ]
     },
     "execution_count": 78,
     "metadata": {},
     "output_type": "execute_result"
    }
   ],
   "source": [
    "import pandas as pd\n",
    "x0=2\n",
    "alpha=1\n",
    "n=10\n",
    "x_vals, y_vals=grad_descent(x0,alpha,n)\n",
    "data= pd.DataFrame({'Iteration': range(n+1), 'x': x_vals, 'f(x)': y_vals})\n",
    "data"
   ]
  },
  {
   "cell_type": "markdown",
   "id": "34207412",
   "metadata": {},
   "source": [
    "c)"
   ]
  },
  {
   "cell_type": "markdown",
   "id": "e5033a0d",
   "metadata": {},
   "source": [
    "If learning rate was set as 1 instead of 0.1, the steps taken in each iteration would be larger resulting in oscillation around the minimum of the function.\n",
    "\n",
    "The x values would oscillate between 2 and 4 with the f(x) values remaining as 1 without lowering to find the minimum.\n",
    "\n",
    "The result is the algorithm oscillates without converging due to overshooting."
   ]
  },
  {
   "cell_type": "markdown",
   "id": "28b83e1b",
   "metadata": {},
   "source": [
    "### Question 2: Linear Systems with Application Context (20 marks)"
   ]
  },
  {
   "cell_type": "markdown",
   "id": "34536139",
   "metadata": {},
   "source": [
    "a)"
   ]
  },
  {
   "cell_type": "code",
   "execution_count": 79,
   "id": "2eb9aaf1",
   "metadata": {},
   "outputs": [
    {
     "name": "stdout",
     "output_type": "stream",
     "text": [
      "I1 = -1.0,\n",
      "I2 = 2.0\n"
     ]
    }
   ],
   "source": [
    "import numpy as np\n",
    "\n",
    "A=np.array([[-2, 3],[-5,7]])\n",
    "B= np.array([8,19])\n",
    "\n",
    "I1,I2=np.linalg.solve(A,B)\n",
    "\n",
    "print(f\"I1 = {I1},\\nI2 = {I2}\")\n"
   ]
  },
  {
   "cell_type": "markdown",
   "id": "52e19f49",
   "metadata": {},
   "source": [
    "b)"
   ]
  },
  {
   "cell_type": "code",
   "execution_count": 80,
   "id": "436e10ed",
   "metadata": {},
   "outputs": [
    {
     "data": {
      "text/plain": [
       "array([1., 2.])"
      ]
     },
     "execution_count": 80,
     "metadata": {},
     "output_type": "execute_result"
    }
   ],
   "source": [
    "import pandas as pd\n",
    "import numpy as np\n",
    "def solve_system(filepath):\n",
    "    def solving(A,B):\n",
    "        try:\n",
    "            return np.linalg.solve(A,B)\n",
    "        except np.linalg.LinAlgError as e:\n",
    "            print(\"Error in solving the system:\", e)\n",
    "            return None, None\n",
    "    try:\n",
    "        with open(filepath, 'r') as file:\n",
    "            lines= file.readlines()\n",
    "            \n",
    "        A = []\n",
    "        B = []\n",
    "        for line in lines:\n",
    "            parts = line.strip().split()\n",
    "            a1,a2, b_val= map(float, parts)\n",
    "            A.append([a1, a2])\n",
    "            B.append(b_val)\n",
    "        A= np.array(A)\n",
    "        B= np.array(B)\n",
    "        return solving(A,B)\n",
    "    except FileNotFoundError:\n",
    "        print(\"File not found.\")\n",
    "        return None\n",
    "\n",
    "solve_system('data.txt')\n",
    "    "
   ]
  },
  {
   "cell_type": "markdown",
   "id": "828e80c3",
   "metadata": {},
   "source": [
    "c)"
   ]
  },
  {
   "cell_type": "markdown",
   "id": "f783c5c1",
   "metadata": {},
   "source": [
    "If the matrix of coefficients were nearly singular, it would imply that the equations are almost linearly dependent.\n",
    "\n",
    "This results in either infinitely many solutions or no exact solution.\n",
    "The solution might also be very sensitive to small changes.\n",
    "\n",
    "The real-world implication is that small errors made in measurements largely affects the results leading to inaccuracy\n",
    "\n",
    "Computatinally, you could calculate the determinant first and if it is close to zero, that would indicate that the system is nearly singular. A minimum threshold can be set.\n",
    "You could use Regularization techniques, adding a small multiple of the identity matrix to help stabilize the solution.\n",
    "Thus you solve (A+ϵI)X=B\n"
   ]
  },
  {
   "cell_type": "markdown",
   "id": "3ece87b5",
   "metadata": {},
   "source": [
    "### Question 3: Data Visualization and Interpretation (20 marks) \n"
   ]
  },
  {
   "cell_type": "code",
   "execution_count": 81,
   "id": "1762b3e7",
   "metadata": {},
   "outputs": [
    {
     "data": {
      "image/png": "[encoded data removed]",
      "text/plain": [
       "<Figure size 1000x600 with 1 Axes>"
      ]
     },
     "metadata": {},
     "output_type": "display_data"
    }
   ],
   "source": [
    "import pandas as pd\n",
    "import matplotlib.pyplot as plt\n",
    "data = pd.read_csv('data.csv')\n",
    "\n",
    "df = pd.DataFrame(data)\n",
    "plt.figure(figsize=(10, 6))\n",
    "plt.plot(df[\"Time (s)\"],df[\"Temperature (°C)\"], marker='o', linestyle='-')\n",
    "plt.title(\"Temperature vs Time\")\n",
    "plt.xlabel(\"Time (s)\")\n",
    "plt.ylabel(\"Temperature (°C)\")\n",
    "plt.grid()\n",
    "plt.show()"
   ]
  },
  {
   "cell_type": "markdown",
   "id": "47a98f5a",
   "metadata": {},
   "source": [
    "b)"
   ]
  },
  {
   "cell_type": "markdown",
   "id": "f96ee71a",
   "metadata": {},
   "source": [
    "Increasing Temperature with Time: the temperature increases as time progresses. This indicates that heat is being transferred into the system, causing its temperature to rise. initially, there is a high rate of heating as the temperature rises steadily with unit time until at 40s.\n",
    "\n",
    "Slowing Rate of Heating (Approaching Equilibrium):From time 40s at 70 degrees, the rate at which the temperature increases starts to decrease over time. The slope becomes less steep over time, approaching a plateau  where the temperature no longer changes significantly."
   ]
  },
  {
   "cell_type": "markdown",
   "id": "a3639e97",
   "metadata": {},
   "source": [
    "c)"
   ]
  },
  {
   "cell_type": "markdown",
   "id": "f03bcb3e",
   "metadata": {},
   "source": [
    "Situation: Cooling of an engine\n",
    "\n",
    "When an engine is started, the temperature rises with time until the cooling mechanisms kick in to maintain the temperature at equilibrium. The cooling mechanisms include the radiator, fans and cooling fluid.\n",
    "If the predetermined equilibrium is passed and the temperature continues to rise, this lets the engineers know there is a problem with the cooling system or if the temperature drops too early and becomes too low, the engineers know that the cooling system has a problem.\n",
    "\n",
    "The visualization enables the engineers to diagnose the problems early optimizing the engine's performance and reliability.\n"
   ]
  },
  {
   "cell_type": "markdown",
   "id": "95280936",
   "metadata": {},
   "source": [
    "### Question 4: ODE Simulation of Real System (20 marks) \n"
   ]
  },
  {
   "cell_type": "markdown",
   "id": "2d1f1c41",
   "metadata": {},
   "source": [
    "a)\n",
    "\n",
    "Iteration 1: Compute y1\n",
    "    t1=t0+h=0+0.5=0.5\n",
    "y1=y0+h⋅f(t0,y0)=100+0.5⋅(0.5⋅100)\n",
    "y1=100+0.5⋅50=100+25\n",
    "\n",
    "=125\n",
    "\n",
    "Iteration 2: Compute y2​\n",
    "\n",
    "t2=t1+h=0.5+0.5=1.0\n",
    "y2=y1+h⋅f(t1,y1)=125+0.5⋅(0.5⋅125)\n",
    "y2=125+0.5⋅62.5=125+31.25\n",
    "\n",
    "=156.25\n",
    "\n",
    "Iteration 3: Compute y3\n",
    " \n",
    "t3=t2​+h=1.0+0.5=1.5\n",
    "y3=y2 +h⋅f(t2 ,y2)=156.25+0.5⋅(0.5⋅156.25)\n",
    "y3 =156.25+0.5⋅78.125=156.25+39.0625\n",
    "\n",
    "=195.3125\n",
    "\n",
    "Iteration 4: Compute y4\n",
    " \n",
    "t4=t3​+h=1.5+0.5=2.0\n",
    "y4=y3 +h⋅f(t3 ,y3 )=195.3125+0.5⋅(0.5⋅195.3125)\n",
    "y4 =195.3125+0.5⋅97.65625=195.3125+48.828125\n",
    "\n",
    "=244.140625"
   ]
  },
  {
   "cell_type": "markdown",
   "id": "e84f399a",
   "metadata": {},
   "source": [
    "b)"
   ]
  },
  {
   "cell_type": "code",
   "execution_count": 82,
   "id": "3462eaad",
   "metadata": {},
   "outputs": [
    {
     "name": "stdout",
     "output_type": "stream",
     "text": [
      "t = 0, y = 100\n",
      "t = 0.5, y = 125.0\n",
      "t = 1.0, y = 156.25\n",
      "t = 1.5, y = 195.3125\n",
      "t = 2.0, y = 244.140625\n"
     ]
    }
   ],
   "source": [
    "def euler_method(f, y0, t0, n, h):\n",
    "    t = t0\n",
    "    y = y0\n",
    "    results = [[t, y]]\n",
    "    for _ in range(n):\n",
    "        y += h * f(t, y)\n",
    "        t += h\n",
    "        results.append([t, y])\n",
    "    \n",
    "    return results\n",
    "def f(t, y):\n",
    "    return 0.5*y\n",
    "y0 = 100\n",
    "h=0.5\n",
    "t0 = 0\n",
    "n = 4\n",
    "results = euler_method(f, y0, t0, n, h)\n",
    "\n",
    "for t, y in results:\n",
    "    print(f\"t = {t}, y = {y}\")\n"
   ]
  },
  {
   "cell_type": "markdown",
   "id": "fb2a221f",
   "metadata": {},
   "source": [
    "c)"
   ]
  },
  {
   "cell_type": "markdown",
   "id": "25790156",
   "metadata": {},
   "source": [
    "Limitations or Euler's Method:\n",
    "\n",
    "Low Accuracy: it is a first-order method,thus its accuracy is directly proportional to the step size h.A large step size can lead to significant errors in the approximation. To achieve reasonable accuracy, very small step sizes might be required,but this results in increased computational cost. Errors might accumulate from each step size resulting in inaccurate results.\n",
    "\n",
    "Instability for certain problems: certain differential equations like stiff ones, which have varying time scales.It would require extremely small step sizes which can be computationally impractical or expensive.\n",
    "\n",
    "\n",
    "Alternative method:\n",
    "\n",
    "Fourth-Order Runge-Kuta method:a higher order method providing better balance between accuracy and computational cost."
   ]
  }
 ],
 "metadata": {
  "kernelspec": {
   "display_name": "scomp",
   "language": "python",
   "name": "python3"
  },
  "language_info": {
   "codemirror_mode": {
    "name": "ipython",
    "version": 3
   },
   "file_extension": ".py",
   "mimetype": "text/x-python",
   "name": "python",
   "nbconvert_exporter": "python",
   "pygments_lexer": "ipython3",
   "version": "3.13.0"
  }
 },
 "nbformat": 4,
 "nbformat_minor": 5
}
